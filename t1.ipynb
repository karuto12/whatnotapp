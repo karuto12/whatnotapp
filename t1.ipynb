{
 "cells": [
  {
   "cell_type": "code",
   "execution_count": null,
   "id": "120dcfdc",
   "metadata": {},
   "outputs": [],
   "source": [
    "import send_text\n",
    "\n",
    "no=\"917078058189\"\n",
    "wa = send_text.WhatsApp(no)\n",
    "# wa.login()"
   ]
  },
  {
   "cell_type": "code",
   "execution_count": null,
   "id": "8154d950",
   "metadata": {},
   "outputs": [
    {
     "name": "stdout",
     "output_type": "stream",
     "text": [
      "📨 Sent to 917078058189: Hello from Python!\n"
     ]
    }
   ],
   "source": [
    "wa.send_text(no, \"Hello from Python!\")"
   ]
  }
 ],
 "metadata": {
  "kernelspec": {
   "display_name": ".venv",
   "language": "python",
   "name": "python3"
  },
  "language_info": {
   "codemirror_mode": {
    "name": "ipython",
    "version": 3
   },
   "file_extension": ".py",
   "mimetype": "text/x-python",
   "name": "python",
   "nbconvert_exporter": "python",
   "pygments_lexer": "ipython3",
   "version": "3.13.3"
  }
 },
 "nbformat": 4,
 "nbformat_minor": 5
}
